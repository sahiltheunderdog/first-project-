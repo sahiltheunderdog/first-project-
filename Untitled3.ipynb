{
  "nbformat": 4,
  "nbformat_minor": 0,
  "metadata": {
    "colab": {
      "provenance": [],
      "authorship_tag": "ABX9TyMIuTeF0R30J6idJbeK74HT",
      "include_colab_link": true
    },
    "kernelspec": {
      "name": "python3",
      "display_name": "Python 3"
    },
    "language_info": {
      "name": "python"
    }
  },
  "cells": [
    {
      "cell_type": "markdown",
      "metadata": {
        "id": "view-in-github",
        "colab_type": "text"
      },
      "source": [
        "<a href=\"https://colab.research.google.com/github/sahiltheunderdog/first-project-/blob/main/Untitled3.ipynb\" target=\"_parent\"><img src=\"https://colab.research.google.com/assets/colab-badge.svg\" alt=\"Open In Colab\"/></a>"
      ]
    },
    {
      "cell_type": "markdown",
      "source": [
        "Q1.L is a list defined as L= [11, 12, 13, 14]. (i) WAP to add 50 and 60 to L. (ii) WAP to remove 11 and 13from L. (iii) WAP to sort L in ascending order. (iv) WAP to sort L in descending order. (v) WAP to search for 13 in L. (vi) WAP to count the number of elements present in L. (vii) WAP to sum all the elements in L. (viii) WAP to sum all ODD numbers in L. (ix) WAP to sum all EVEN numbers in L. (x) WAP to sum all PRIME numbers in L. (xi) WAP to clear all the elements in L. (xii) WAP to delete L."
      ],
      "metadata": {
        "id": "NckcNIJar2lc"
      }
    },
    {
      "cell_type": "code",
      "execution_count": 1,
      "metadata": {
        "colab": {
          "base_uri": "https://localhost:8080/"
        },
        "id": "ewjVF3DNrsir",
        "outputId": "cdf3f329-77bd-44ab-c44c-76e3d4c7d0c4"
      },
      "outputs": [
        {
          "output_type": "stream",
          "name": "stdout",
          "text": [
            "[11, 12, 13, 14, 50, 60]\n",
            "[12, 14, 50, 60]\n",
            "[12, 14, 50, 60]\n",
            "[60, 50, 14, 12]\n",
            "absent\n",
            "4\n",
            "136\n",
            "sum of odd= 0\n",
            "sum of even= 136\n",
            "0\n",
            "[]\n"
          ]
        }
      ],
      "source": [
        "L = [11, 12, 13, 14]\n",
        "#add elemt using append\n",
        "L.append(50)\n",
        "L.append(60)\n",
        "print(L)\n",
        "#delete element using remove\n",
        "L.remove(11)\n",
        "L.remove(13)\n",
        "print(L)\n",
        "#sort elements\n",
        "L.sort()\n",
        "print(L)\n",
        "L.sort(reverse=True)\n",
        "print(L)\n",
        "#searching element\n",
        "if 13 in L:\n",
        "    print(\"present\")\n",
        "else:\n",
        "    print(\"absent\")\n",
        "#print length\n",
        "print(len(L))\n",
        "#sum of elements\n",
        "print(sum(L))\n",
        "#sum of odd\n",
        "print(\"sum of odd=\",sum(x for x in L if x % 2 != 0))\n",
        "#sum of even\n",
        "print(\"sum of even=\",sum(x for x in L if x % 2 == 0))\n",
        "#sum of prime\n",
        "def is_prime(n):\n",
        "    if n < 2:\n",
        "        return False\n",
        "    for i in range(2, n//2+1):\n",
        "        if n % i == 0:\n",
        "            return False\n",
        "    return True\n",
        "\n",
        "print(sum(x for x in L if is_prime(x)))\n",
        "#clear list\n",
        "L.clear()\n",
        "print(L)\n",
        "#delete list\n",
        "del L\n"
      ]
    },
    {
      "cell_type": "markdown",
      "source": [
        "Q2.D is a dictionary defined as D= {1:5.6, 2:7.8, 3:6.6, 4:8.7, 5:7.7}. (i) WAP to add new entry in D; key=8 and value is 8.8 (ii) WAP to remove key=2. (iii) WAP to check weather 6 key is present in D. (iv) WAP to count the number of elements present in D. (v) WAP to add all the values present D. (vi) WAP to update the value of 3 to 7.1. (vii)WAP to clear the dictionary."
      ],
      "metadata": {
        "id": "meU5JFMG7u_Q"
      }
    },
    {
      "cell_type": "code",
      "source": [
        "#dictionary operation\n",
        "D = {1:5.6, 2:7.8, 3:6.6, 4:8.7, 5:7.7}\n",
        "#adding\n",
        "D[8] = 8.8\n",
        "print(\"after adding=\",D)\n",
        "#pop element\n",
        "D.pop(2)\n",
        "print(\"after pop=\",D)\n",
        "#find element\n",
        "print(6 in D)\n",
        "#print length\n",
        "print(len(D))\n",
        "#print sum\n",
        "print(\"sum=\",sum(D.values()))\n",
        "#update value\n",
        "D[3] = 7.1\n",
        "print(\"after update\",D)\n",
        "#for clear\n",
        "D.clear()"
      ],
      "metadata": {
        "colab": {
          "base_uri": "https://localhost:8080/"
        },
        "id": "wA7EDgiOuwmM",
        "outputId": "6164622c-f378-4f63-f6e8-ef8a18059bf8"
      },
      "execution_count": 2,
      "outputs": [
        {
          "output_type": "stream",
          "name": "stdout",
          "text": [
            "after adding= {1: 5.6, 2: 7.8, 3: 6.6, 4: 8.7, 5: 7.7, 8: 8.8}\n",
            "after pop= {1: 5.6, 3: 6.6, 4: 8.7, 5: 7.7, 8: 8.8}\n",
            "False\n",
            "5\n",
            "sum= 37.4\n",
            "after update {1: 5.6, 3: 7.1, 4: 8.7, 5: 7.7, 8: 8.8}\n"
          ]
        }
      ]
    },
    {
      "cell_type": "markdown",
      "source": [
        "Q3. S1 is a set defined as S1= [10, 20, 30, 40, 50, 60]. S2 is a set defined as S2= [40, 50, 60, 70, 80, 90]. (i) WAP to add 55 and 66 in Set S1. (ii) WAP to remove 10 and 30 from Set S1. (iii) WAP to check whether 40 is present in S1. (iv) WAP to find the union between S1 and S2. (v) WAP to find the intersection between S1 and S2. (vi) WAP to find the S1 - S2.\n",
        "\n"
      ],
      "metadata": {
        "id": "ttLziPZ08aFQ"
      }
    },
    {
      "cell_type": "code",
      "source": [
        "#Set operations\n",
        "S1 = {10, 20, 30, 40, 50, 60}\n",
        "S2 = {40, 50, 60, 70, 80, 90}\n",
        "#Adding\n",
        "S1.add(55)\n",
        "S1.add(66)\n",
        "print(\"after adding=\",S1)\n",
        "#Removing\n",
        "S1.remove(10)\n",
        "S1.remove(30)\n",
        "print(\"after removing=\",S1)\n",
        "#Check\n",
        "print(40 in S1)\n",
        "#union\n",
        "print(\"union\",S1.union(S2))\n",
        "#intersection\n",
        "print(\"intersection\",S1.intersection(S2))\n",
        "#difference\n",
        "print(\"difference\",S1.difference(S2))\n"
      ],
      "metadata": {
        "colab": {
          "base_uri": "https://localhost:8080/"
        },
        "id": "zZfYm5yG8ZaI",
        "outputId": "4125c649-dee5-43b0-85ef-1804d9d98ab5"
      },
      "execution_count": 3,
      "outputs": [
        {
          "output_type": "stream",
          "name": "stdout",
          "text": [
            "after adding= {50, 66, 20, 55, 40, 10, 60, 30}\n",
            "after removing= {50, 66, 20, 55, 40, 60}\n",
            "True\n",
            "union {66, 70, 40, 80, 50, 20, 55, 90, 60}\n",
            "intersection {40, 50, 60}\n",
            "difference {66, 20, 55}\n"
          ]
        }
      ]
    },
    {
      "cell_type": "markdown",
      "source": [
        "Q4. Write the following program. (i) WAP to print 100 random strings whose length between 6 and 8. (ii) WAP to print all prime numbers between 600 and 800. (iii)WAP to print all numbers between 100 and 1000 that are divisible by7 and 9.\n",
        "\n",
        "\n"
      ],
      "metadata": {
        "id": "cfaNyPO-9BBg"
      }
    },
    {
      "cell_type": "code",
      "source": [
        "#print random string\n",
        "import random\n",
        "import string\n",
        "\n",
        "for i in range(100):\n",
        "    length = random.randint(6, 8)\n",
        "    rand_str = ''.join(random.choices(string.ascii_letters , k=length))\n",
        "    print(rand_str)\n",
        "#print prime number\n",
        "def is_prime(n):\n",
        "    if n < 2:\n",
        "        return False\n",
        "    for i in range(2, int(n//2)+1):\n",
        "        if n % i == 0:\n",
        "            return False\n",
        "    return True\n",
        "\n",
        "for i in range(600, 801):\n",
        "    if is_prime(i):\n",
        "        print(i)\n",
        "#print divsible  number between 7 and 9\n",
        "for i in range(100, 1001):\n",
        "    if i % 7 == 0 and i % 9 == 0:\n",
        "        print(i)\n"
      ],
      "metadata": {
        "colab": {
          "base_uri": "https://localhost:8080/"
        },
        "id": "mijfusY19B5I",
        "outputId": "b67196aa-1f1e-4bab-a8e5-4cced484cece"
      },
      "execution_count": 4,
      "outputs": [
        {
          "output_type": "stream",
          "name": "stdout",
          "text": [
            "TSGKYxY\n",
            "guZDDvQQ\n",
            "PWAdaf\n",
            "NXcoGRn\n",
            "OSUpsoU\n",
            "eQEfEm\n",
            "YeSicQ\n",
            "ymlpGms\n",
            "UJUmuDNC\n",
            "sLIjmIqI\n",
            "HKNoNLS\n",
            "pQVRFh\n",
            "cOsZpZA\n",
            "ofCNYcMh\n",
            "hVPqFMN\n",
            "kJLhTa\n",
            "MCSEQtUz\n",
            "uBphFYDf\n",
            "oPayyb\n",
            "VQYBzD\n",
            "sVRzvZ\n",
            "qRJJAq\n",
            "gfefVi\n",
            "pTalEHv\n",
            "cBzRUhB\n",
            "THEWURT\n",
            "FuWjpXE\n",
            "gqtEBy\n",
            "dLlmAzA\n",
            "lDqztP\n",
            "ltNSxU\n",
            "pcfXOebm\n",
            "bQQJCt\n",
            "QtfuuT\n",
            "mBwNPf\n",
            "NFPCWhXb\n",
            "dSRcKo\n",
            "khHdWp\n",
            "HfvnHC\n",
            "sfVNlw\n",
            "TJphAWBZ\n",
            "NMzwBNhH\n",
            "UJTRdLlN\n",
            "wnEjPIAC\n",
            "cHEGmMsD\n",
            "ZGFxfxZ\n",
            "RNWxseYD\n",
            "uAKEkklp\n",
            "StLAQMh\n",
            "TCQiWEXo\n",
            "QYNbqD\n",
            "vXdzuw\n",
            "fweRQWc\n",
            "OArJAhh\n",
            "XuNlxfh\n",
            "uyjZRjr\n",
            "HNfEVNCB\n",
            "vaIehiZj\n",
            "JpWRurl\n",
            "TSlSIXX\n",
            "aNbGuJ\n",
            "VIZCiuv\n",
            "OnFmbF\n",
            "AXdRILOl\n",
            "ilUsZryh\n",
            "bNDnOeGX\n",
            "ARdmIKF\n",
            "nsZUyeHL\n",
            "szpTOc\n",
            "lLGyTSPT\n",
            "PNoGEs\n",
            "UTPvtEj\n",
            "OTElsx\n",
            "ruEGUd\n",
            "kcUovQx\n",
            "kbvqjbn\n",
            "uVspmubf\n",
            "dXCqGX\n",
            "zWvEyd\n",
            "xIBUohG\n",
            "XQNPWlN\n",
            "yoRtnIky\n",
            "AGYbDffx\n",
            "MGLKsB\n",
            "YTWbWbgg\n",
            "PBEfueD\n",
            "fVBWrwV\n",
            "gxMwcmk\n",
            "UVLGwt\n",
            "ZNiLzqS\n",
            "cDmOGuWT\n",
            "czeHcA\n",
            "SNnJmsPE\n",
            "LDpZbN\n",
            "oUUEej\n",
            "Gtcqeo\n",
            "oJLmuKpp\n",
            "sKsiTDJ\n",
            "NAapGEJ\n",
            "QnOMMA\n",
            "601\n",
            "607\n",
            "613\n",
            "617\n",
            "619\n",
            "631\n",
            "641\n",
            "643\n",
            "647\n",
            "653\n",
            "659\n",
            "661\n",
            "673\n",
            "677\n",
            "683\n",
            "691\n",
            "701\n",
            "709\n",
            "719\n",
            "727\n",
            "733\n",
            "739\n",
            "743\n",
            "751\n",
            "757\n",
            "761\n",
            "769\n",
            "773\n",
            "787\n",
            "797\n",
            "126\n",
            "189\n",
            "252\n",
            "315\n",
            "378\n",
            "441\n",
            "504\n",
            "567\n",
            "630\n",
            "693\n",
            "756\n",
            "819\n",
            "882\n",
            "945\n"
          ]
        }
      ]
    },
    {
      "cell_type": "markdown",
      "source": [
        "Q5. WAP to create two lists of 10 random numbers between 10 and 30; Find (i)Common numbers in the two lists (ii) Unique numbers in both the list (iii)Minimum in both the list (iv) Maximum in both the list (v) Sum of both the lists\n",
        "\n"
      ],
      "metadata": {
        "id": "ulJnA_Wk9Qx5"
      }
    },
    {
      "cell_type": "code",
      "source": [
        "import random\n",
        "\n",
        "# Create two lists with 10 random numbers between 10 and 30\n",
        "list1 = [random.randint(10, 30) for i in range(10)]\n",
        "list2 = [random.randint(10, 30) for i in range(10)]\n",
        "\n",
        "print(\"List 1:\", list1)\n",
        "print(\"List 2:\", list2)\n",
        "\n",
        "# Common numbers\n",
        "common = list(set(list1) & set(list2))\n",
        "print(\"Common numbers:\", common)\n",
        "\n",
        "# Unique numbers in both lists\n",
        "unique = list(set(list1) ^ set(list2))\n",
        "print(\"Unique numbers =\", unique)\n",
        "\n",
        "# Minimum in both lists\n",
        "print(\"Min in List 1=\", min(list1))\n",
        "print(\"Min in List 2=\", min(list2))\n",
        "\n",
        "# Maximum in both lists\n",
        "print(\"Max in List 1=\", max(list1))\n",
        "print(\"Max in  List 2=\", max(list2))\n",
        "\n",
        "# Sum of both lists\n",
        "print(\"Sum of List 1=\", sum(list1))\n",
        "print(\"Sum of List 2=\", sum(list2))\n",
        "print(\"Total =\", sum(list1) + sum(list2))\n"
      ],
      "metadata": {
        "colab": {
          "base_uri": "https://localhost:8080/"
        },
        "id": "0C4bIlBB9RVT",
        "outputId": "96c9e44e-2f55-485e-8453-12d56600b184"
      },
      "execution_count": 5,
      "outputs": [
        {
          "output_type": "stream",
          "name": "stdout",
          "text": [
            "List 1: [19, 14, 22, 14, 25, 29, 25, 28, 11, 25]\n",
            "List 2: [26, 20, 20, 19, 16, 23, 20, 22, 28, 15]\n",
            "Common numbers: [19, 28, 22]\n",
            "Unique numbers = [11, 14, 15, 16, 20, 23, 25, 26, 29]\n",
            "Min in List 1= 11\n",
            "Min in List 2= 15\n",
            "Max in List 1= 29\n",
            "Max in  List 2= 28\n",
            "Sum of List 1= 212\n",
            "Sum of List 2= 209\n",
            "Total = 421\n"
          ]
        }
      ]
    },
    {
      "cell_type": "markdown",
      "source": [
        "Q6. WAP to create a list of 100 random numbers between 100 and 900. Count and print the: (i) All odd numbers (ii) All even numbers (iii) All prime numbers"
      ],
      "metadata": {
        "id": "cUytbbT39s-q"
      }
    },
    {
      "cell_type": "code",
      "source": [
        "import random\n",
        "\n",
        "# Create a list of 100 random numbers between 100 and 900\n",
        "numbers = [random.randint(100, 900) for i in range(100)]\n",
        "\n",
        "# (i) All odd numbers\n",
        "odd_numbers = [x for x in numbers if x % 2 != 0]\n",
        "print(\"Odd numbers:\", odd_numbers)\n",
        "print(\"Count of odd=\", len(odd_numbers))\n",
        "\n",
        "# (ii) All even numbers\n",
        "even_numbers= [x for x in numbers if x % 2 == 0]\n",
        "print(\"Even numbers:\", even_numbers)\n",
        "print(\"Count of even =\", len(even_numbers))\n",
        "\n",
        "# (iii) All prime numbers\n",
        "def is_prime(n):\n",
        "    if n < 2:\n",
        "        return False\n",
        "    for i in range(2, int(n//2) + 1):\n",
        "        if n % i == 0:\n",
        "            return False\n",
        "    return True\n",
        "\n",
        "prime_numbers = [x for x in numbers if is_prime(x)]\n",
        "print(\"Prime numbers=\", prime_numbers)\n",
        "print(\"Count of prime numbers=\", len(prime_numbers))"
      ],
      "metadata": {
        "colab": {
          "base_uri": "https://localhost:8080/"
        },
        "id": "HkoEvMaP9uhJ",
        "outputId": "a51a30cb-70f7-4f38-c748-1873459349af"
      },
      "execution_count": 6,
      "outputs": [
        {
          "output_type": "stream",
          "name": "stdout",
          "text": [
            "Odd numbers: [497, 393, 683, 557, 317, 663, 413, 493, 719, 847, 525, 725, 457, 431, 109, 873, 633, 413, 829, 615, 187, 661, 135, 543, 877, 723, 257, 859, 433, 425, 233, 301, 143, 487, 335, 571, 607, 261, 703, 543, 597, 227, 773, 727, 647, 677, 507, 755, 227]\n",
            "Count of odd= 49\n",
            "Even numbers: [344, 430, 384, 196, 304, 800, 416, 180, 722, 516, 348, 816, 854, 516, 554, 636, 808, 620, 602, 726, 206, 110, 560, 142, 198, 492, 178, 184, 376, 464, 336, 696, 696, 454, 782, 270, 478, 146, 856, 602, 854, 262, 648, 420, 238, 450, 252, 424, 454, 264, 584]\n",
            "Count of even = 51\n",
            "Prime numbers= [683, 557, 317, 719, 457, 431, 109, 829, 661, 877, 257, 859, 433, 233, 487, 571, 607, 227, 773, 727, 647, 677, 227]\n",
            "Count of prime numbers= 23\n"
          ]
        }
      ]
    },
    {
      "cell_type": "markdown",
      "source": [
        "Q7. D is a dictionary defined as D={1:\"One\",2:\"Two\",3:\"Three\",4:\"Four\", 5:\"Five\"}. WAP to read all the keys and values from dictionary and write to the file in the given below format. Key1, Value1 Key2, Value2 Key3, Value3"
      ],
      "metadata": {
        "id": "mfNxapv095fz"
      }
    },
    {
      "cell_type": "code",
      "source": [
        "D = {1: \"One\", 2: \"Two\", 3: \"Three\", 4: \"Four\", 5: \"Five\"}\n",
        "\n",
        "with open(\"file.txt\", \"w\") as file:\n",
        "    for key, value in D.items():\n",
        "        file.write(f\"{key}, {value}\\n\")\n"
      ],
      "metadata": {
        "id": "vsbH45ER-Pux"
      },
      "execution_count": 7,
      "outputs": []
    },
    {
      "cell_type": "markdown",
      "source": [
        "Q8. Write to the file 100 random strings whose length between 10 and 15."
      ],
      "metadata": {
        "id": "mZMG1ymL-dHp"
      }
    },
    {
      "cell_type": "code",
      "source": [
        "import random\n",
        "import string\n",
        "\n",
        "with open(\"random_strings.txt\", \"w\") as file:\n",
        "    for i in range(100):\n",
        "        length = random.randint(10, 15)\n",
        "        rand_str = ''.join(random.choices(string.ascii_letters + string.digits, k=length))\n",
        "        file.write(rand_str + \"\\n\")"
      ],
      "metadata": {
        "id": "-j6X24VS-iHB"
      },
      "execution_count": 8,
      "outputs": []
    },
    {
      "cell_type": "markdown",
      "source": [
        "Q9. Write to the file all prime numbers between 600 and 800."
      ],
      "metadata": {
        "id": "7Y4Xz7by-lfb"
      }
    },
    {
      "cell_type": "code",
      "source": [
        "def is_prime(n):\n",
        "    if n < 2:\n",
        "        return False\n",
        "    for i in range(2, int(n//2) + 1):\n",
        "        if n % i == 0:\n",
        "            return False\n"
      ],
      "metadata": {
        "id": "Qm5awfZJ-rvq"
      },
      "execution_count": 12,
      "outputs": []
    },
    {
      "cell_type": "markdown",
      "source": [
        "Q10. L is a list defined as L={\"One\",\"Two\",\"Three\",\"Four\",\"Five\"}.\n",
        "\n",
        "WAP to count the length of reach element from a list and write to the file in the given below format:\n",
        "\n",
        "One, 3\n",
        "\n",
        "Two, 3\n",
        "\n",
        "Four, 4"
      ],
      "metadata": {
        "id": "5kVvQctzCPpj"
      }
    },
    {
      "cell_type": "code",
      "source": [
        "#list\n",
        "L = [\"One\", \"Two\", \"Three\", \"Four\", \"Five\"]\n",
        "\n",
        "fp = open(\"lengths.txt\", \"w\")\n",
        "\n",
        "# Loop through the list to get the length of each element\n",
        "for word in L:\n",
        "    # Write the word and its length to the file in the specified format\n",
        "    fp.write(f\"{word}, {len(word)}\\n\")\n",
        "\n",
        "fp.close()\n",
        "\n",
        "print(\"Word lengths have been written to 'lengths.txt'.\")\n"
      ],
      "metadata": {
        "colab": {
          "base_uri": "https://localhost:8080/"
        },
        "id": "iNMALqvxCaPk",
        "outputId": "6b0bb8b7-c0b8-46e5-851b-5a8b297771aa"
      },
      "execution_count": 11,
      "outputs": [
        {
          "output_type": "stream",
          "name": "stdout",
          "text": [
            "Word lengths have been written to 'lengths.txt'.\n"
          ]
        }
      ]
    },
    {
      "cell_type": "markdown",
      "source": [
        "Q11. WAP to calculate the time taken by a program"
      ],
      "metadata": {
        "id": "uKqL01vsCkrU"
      }
    },
    {
      "cell_type": "code",
      "source": [
        "import time\n",
        "\n",
        "start = time.time()\n",
        "sum_ = 0\n",
        "for i in range(1, 1000000):\n",
        "    sum_ += i\n",
        "end = time.time()\n",
        "\n",
        "print(\"Time taken:\", end - start)\n"
      ],
      "metadata": {
        "colab": {
          "base_uri": "https://localhost:8080/"
        },
        "id": "nWiqchZFCl-L",
        "outputId": "e32576fb-8600-47d5-f754-ae7eab97ec81"
      },
      "execution_count": 13,
      "outputs": [
        {
          "output_type": "stream",
          "name": "stdout",
          "text": [
            "Time taken: 0.12102890014648438\n"
          ]
        }
      ]
    },
    {
      "cell_type": "markdown",
      "source": [
        "Q12.WAP to sort following number of elements in a list, calculate time taken and plot the graph. Number of elements in list Time Taken 5k T1 10k T2 15k T3 20k T4 25k T5"
      ],
      "metadata": {
        "id": "j2FH37u4Crht"
      }
    },
    {
      "cell_type": "code",
      "source": [
        "import matplotlib.pyplot as plt\n",
        "\n",
        "sizes = [5000, 10000, 15000, 20000, 25000]\n",
        "times = []\n",
        "\n",
        "for size in sizes:\n",
        "    lst = [random.randint(1, 10000) for _ in range(size)]\n",
        "    start = time.time()\n",
        "    lst.sort()\n",
        "    end = time.time()\n",
        "    times.append(end - start)\n",
        "\n",
        "for s, t in zip(sizes, times):\n",
        "    print(f\"{s}, {t:.5f}\")\n",
        "\n",
        "plt.plot(sizes, times, marker='o')\n",
        "plt.xlabel('Number of Elements')\n",
        "plt.ylabel('Time Taken (s)')\n",
        "plt.title('Sorting Time vs List Size')\n",
        "plt.grid(True)\n",
        "plt.show()\n"
      ],
      "metadata": {
        "colab": {
          "base_uri": "https://localhost:8080/",
          "height": 559
        },
        "id": "giX5UPs7CsKz",
        "outputId": "21ef801b-e75e-4689-e7b9-f1de9836888b"
      },
      "execution_count": 14,
      "outputs": [
        {
          "output_type": "stream",
          "name": "stdout",
          "text": [
            "5000, 0.00102\n",
            "10000, 0.00178\n",
            "15000, 0.00271\n",
            "20000, 0.00486\n",
            "25000, 0.01012\n"
          ]
        },
        {
          "output_type": "display_data",
          "data": {
            "text/plain": [
              "<Figure size 640x480 with 1 Axes>"
            ],
            "image/png": "[encoded data removed]"
          },
          "metadata": {}
        }
      ]
    },
    {
      "cell_type": "markdown",
      "source": [
        "Q13. WAP to create a dictionary of student marks in five subjects and you have to find the student having maximum and minimum average marks"
      ],
      "metadata": {
        "id": "AXH3UAIFCsiz"
      }
    },
    {
      "cell_type": "code",
      "source": [
        "students = {\n",
        "    \"A\": [7, 6, 8, 5, 9],\n",
        "    \"B\": [8, 7, 8, 7, 9],\n",
        "    \"C\": [5, 6, 8, 5, 9]\n",
        "}\n",
        "\n",
        "#Calculate average marks for each student\n",
        "avg_marks = {name: sum(marks)/len(marks) for name, marks in students.items()}\n",
        "\n",
        "#Print avg_marks\n",
        "print(\"Average Marks:\", avg_marks)\n",
        "\n",
        "# Fing the maximum and minimum avg marks\n",
        "max_student = max(avg_marks, key=avg_marks.get)  # max avg marks of the student\n",
        "min_student = min(avg_marks, key=avg_marks.get)  # min avg marks of the student\n",
        "\n",
        "# Print results\n",
        "print(\"Max Avg:\", max_student, avg_marks[max_student])\n",
        "print(\"Min Avg:\", min_student, avg_marks[min_student])\n",
        "\n"
      ],
      "metadata": {
        "colab": {
          "base_uri": "https://localhost:8080/"
        },
        "id": "2_kuAmL8CtCL",
        "outputId": "ca5e28f6-9463-4348-c9cd-d0e712fc7149"
      },
      "execution_count": 15,
      "outputs": [
        {
          "output_type": "stream",
          "name": "stdout",
          "text": [
            "Average Marks: {'A': 7.0, 'B': 7.8, 'C': 6.6}\n",
            "Max Avg: B 7.8\n",
            "Min Avg: C 6.6\n"
          ]
        }
      ]
    }
  ]
}